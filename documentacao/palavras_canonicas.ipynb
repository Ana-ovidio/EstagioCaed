{
 "cells": [
  {
   "cell_type": "markdown",
   "metadata": {},
   "source": [
    "## **COMO RODAR?**\n",
    "\n",
    "Dentro de cada célula, apertar *Ctrl+Enter* ou clicar em *Run* - ícone superior da página.\n",
    "\n",
    "**Observação 1:** \n",
    "- Rodar as células em ordem. A última célula terá o resultado que deseja. \n",
    "\n",
    "Caso queira rodar todas as células de uma vez: cell -> Run All\n",
    "\n",
    "**Observação 2:** \n",
    "- Qualquer modificação em uma célula, todas devem ser rodadas novamente e em ordem. "
   ]
  },
  {
   "cell_type": "markdown",
   "metadata": {},
   "source": [
    "### Instalações necessárias antes de utilizar este módulo. \n",
    "\n",
    "    ! pip install nltk\n"
   ]
  },
  {
   "cell_type": "code",
   "execution_count": 2,
   "metadata": {},
   "outputs": [],
   "source": [
    "import nltk"
   ]
  },
  {
   "cell_type": "code",
   "execution_count": 3,
   "metadata": {},
   "outputs": [],
   "source": [
    "sentenca = 'A menina estava com a cabeça na janela'"
   ]
  },
  {
   "cell_type": "code",
   "execution_count": 4,
   "metadata": {},
   "outputs": [],
   "source": [
    "lista_vogais = ['a', 'e', 'i', 'o', 'u', 'A', 'E', 'I', 'O', 'U']"
   ]
  },
  {
   "cell_type": "markdown",
   "metadata": {},
   "source": [
    "--------\n",
    "**Tokenização**"
   ]
  },
  {
   "cell_type": "code",
   "execution_count": 5,
   "metadata": {},
   "outputs": [
    {
     "data": {
      "text/plain": [
       "['A', 'menina', 'estava', 'com', 'a', 'cabeça', 'na', 'janela']"
      ]
     },
     "execution_count": 5,
     "metadata": {},
     "output_type": "execute_result"
    }
   ],
   "source": [
    "tagged_sents = nltk.corpus.mac_morpho.tagged_sents()\n",
    "tokens = nltk.word_tokenize(sentenca)\n",
    "if '.' in tokens:\n",
    "    tokens.remove('.')\n",
    "    \n",
    "tokens"
   ]
  },
  {
   "cell_type": "markdown",
   "metadata": {},
   "source": [
    "-------\n",
    "### **Raciocínio**\n",
    "\n",
    "- Todas as sílabas devem ter duas letras, logo o tamanho da palavra deve ser divisível por 2.\n",
    "- Todas as sílabas devem ser CV.\n"
   ]
  },
  {
   "cell_type": "code",
   "execution_count": 8,
   "metadata": {},
   "outputs": [],
   "source": [
    "palavras_canonicas = []\n",
    "\n",
    "for token in tokens:\n",
    "    count = 0\n",
    "    tamanho_palavra = len(token)\n",
    "    \n",
    "    if tamanho_palavra%2 == 0:\n",
    "        silabas = []        \n",
    "        for i in range(0, len(token), 2):\n",
    "            j = i+2\n",
    "            silabas.append(token[i:j])\n",
    "            i=j\n",
    "   \n",
    "        for silaba in silabas:\n",
    "            if ((silaba[0] not in lista_vogais) and \n",
    "                (silaba[1] in lista_vogais)):\n",
    "                count = count + 1   \n",
    "            else:\n",
    "                break\n",
    " \n",
    "        if count == tamanho_palavra/2:\n",
    "            palavras_canonicas.append(token)\n",
    "    else:\n",
    "        pass"
   ]
  },
  {
   "cell_type": "markdown",
   "metadata": {},
   "source": [
    "-----------\n",
    "## **Resultado**"
   ]
  },
  {
   "cell_type": "code",
   "execution_count": 9,
   "metadata": {},
   "outputs": [
    {
     "data": {
      "text/plain": [
       "['menina', 'cabeça', 'na', 'janela']"
      ]
     },
     "execution_count": 9,
     "metadata": {},
     "output_type": "execute_result"
    }
   ],
   "source": [
    "palavras_canonicas"
   ]
  }
 ],
 "metadata": {
  "kernelspec": {
   "display_name": "Python 3",
   "language": "python",
   "name": "python3"
  },
  "language_info": {
   "codemirror_mode": {
    "name": "ipython",
    "version": 3
   },
   "file_extension": ".py",
   "mimetype": "text/x-python",
   "name": "python",
   "nbconvert_exporter": "python",
   "pygments_lexer": "ipython3",
   "version": "3.8.5"
  }
 },
 "nbformat": 4,
 "nbformat_minor": 4
}
