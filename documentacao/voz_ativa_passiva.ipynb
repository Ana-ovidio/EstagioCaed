{
 "cells": [
  {
   "cell_type": "markdown",
   "metadata": {},
   "source": [
    "## **COMO RODAR?**\n",
    "\n",
    "Dentro de cada célula, apertar *Ctrl+Enter* ou clicar em *Run* - ícone superior da página.\n",
    "\n",
    "**Observação 1:** \n",
    "- Rodar as células em ordem. A última célula terá o resultado que deseja. \n",
    "\n",
    "Caso queira rodar todas as células de uma vez: cell -> Run All\n",
    "\n",
    "**Observação 2:** \n",
    "- Qualquer modificação em uma célula, todas devem ser rodadas novamente e em ordem. "
   ]
  },
  {
   "cell_type": "markdown",
   "metadata": {},
   "source": [
    "# Observação \n",
    "\n",
    "## Por que não houve divisão em classes neste código?\n",
    "\n",
    "A *orientação objeto* no Jupyter é complicada e, como o notebook está sendo utilizando apenas para exemplificação do processamento de linguagem natural, optou- se por deixar os comentários em cima de cada processo do programa. "
   ]
  },
  {
   "cell_type": "markdown",
   "metadata": {},
   "source": [
    "### Instalações necessárias antes de utilizar este módulo. \n",
    "\n",
    "    ! pip install pattern\n",
    "    ! pip install pyinflect\n",
    "    ! pip install deep_translator\n",
    "    "
   ]
  },
  {
   "cell_type": "code",
   "execution_count": 15,
   "metadata": {
    "scrolled": true
   },
   "outputs": [],
   "source": [
    "import nltk\n",
    "import pyinflect\n",
    "import spacy \n",
    "from deep_translator import GoogleTranslator"
   ]
  },
  {
   "cell_type": "code",
   "execution_count": 16,
   "metadata": {},
   "outputs": [
    {
     "name": "stdout",
     "output_type": "stream",
     "text": [
      "showing info https://raw.githubusercontent.com/nltk/nltk_data/gh-pages/index.xml\n",
      "✔ Download and installation successful\n",
      "You can now load the package via spacy.load('en_core_web_sm')\n"
     ]
    }
   ],
   "source": [
    "nltk.download()\n",
    "spacy.cli.download(\"en_core_web_sm\")"
   ]
  },
  {
   "cell_type": "markdown",
   "metadata": {},
   "source": [
    "# Mudança da voz verbal em uma sentença. \n",
    "\n",
    "        1) Traduzir para o inglês uma vez que há funções mias otmizadas no NLTK   para essa linguagem.\n",
    "        2) Tokenização\n",
    "        3) Verificar o tempo verbal\n",
    "        4) Realizar a modificação \n",
    "        5) Traduzir para o português"
   ]
  },
  {
   "cell_type": "markdown",
   "metadata": {},
   "source": [
    "----------\n",
    "### Funções responsáveis por transformar a voz\n",
    "\n",
    "As funções serão chamadas a realização da tokenixação do texto em inglês"
   ]
  },
  {
   "cell_type": "code",
   "execution_count": 17,
   "metadata": {},
   "outputs": [],
   "source": [
    "def modificar_para_ativa (objeto, sujeito, tagged, posicao_verbo, posicao_objeto,\n",
    "                  posicao_sujeito, verbo_passado):\n",
    "\n",
    "    novo_texto = []\n",
    "\n",
    "    #Responsável por realizar as trocas\n",
    "    for i in range (len(tagged)):\n",
    "        if i == posicao_verbo:\n",
    "            novo_texto.append(verbo_passado)\n",
    "        elif i == posicao_sujeito:\n",
    "            novo_texto.append(objeto)\n",
    "        elif i == posicao_objeto:\n",
    "            novo_texto.append(sujeito)\n",
    "        else:\n",
    "            novo_texto.append(tagged[i][0])\n",
    "\n",
    "\n",
    "    #Remove verbo no participio passado\n",
    "    novo_texto.pop(posicao_verbo+1)\n",
    "\n",
    "    # Excluir o by pois essa preposição não existe na voz ativa\n",
    "    novo_texto.remove('by')\n",
    "\n",
    "    return novo_texto\n"
   ]
  },
  {
   "cell_type": "code",
   "execution_count": 18,
   "metadata": {},
   "outputs": [],
   "source": [
    "def modificar_para_passiva (objeto, sujeito, tagged, posicao_verbo, posicao_objeto,\n",
    "              posicao_sujeito, verbo_participio_passado):\n",
    "\n",
    "    novo_texo = []\n",
    "    for tag in tagged:\n",
    "        if tag[0] == objeto:\n",
    "            tag_objeto = tag[1]\n",
    "    for i in range (len(tagged)):\n",
    "\n",
    "        if i == posicao_verbo:\n",
    "            # Valida qual conjugação do verbo to be no passado se adequa ao objeto\n",
    "            # O objeto será o novo sujeito\n",
    "            if ((tag_objeto == 'NNS') or \n",
    "                (tag_objeto in ['they', 'They', 'we', 'We', 'you', 'You'])):\n",
    "                    novo_texo.append('were')\n",
    "            else:\n",
    "                    novo_texo.append('was')\n",
    "            novo_texo.append(verbo_participio_passado)\n",
    "            \n",
    "        elif i == posicao_sujeito:\n",
    "            novo_texo.append(objeto)\n",
    "        elif i == posicao_objeto:\n",
    "            #Adicionar a preposição by\n",
    "            novo_texo.insert(i,'by')\n",
    "            novo_texo.append(sujeito)\n",
    "        else:\n",
    "            novo_texo.append(tagged[i][0])\n",
    "\n",
    "    return novo_texo\n"
   ]
  },
  {
   "cell_type": "markdown",
   "metadata": {},
   "source": [
    "-----------\n",
    "##                                           Início do processo de mudança de voz\n",
    "\n",
    "### **Tradução da sentença e tratamento dela**"
   ]
  },
  {
   "cell_type": "code",
   "execution_count": 19,
   "metadata": {},
   "outputs": [
    {
     "name": "stdout",
     "output_type": "stream",
     "text": [
      "Tradução para o inglês: The car hit the boy\n"
     ]
    }
   ],
   "source": [
    "sentenca = \"O carro atropelou o menino\"\n",
    "\n",
    "if '.' in sentenca:\n",
    "    sentenca = sentenca.replace('.', '')\n",
    "\n",
    "traduzir_ingles  = GoogleTranslator(source='portuguese', target='english').translate(sentenca)\n",
    "print(f'Tradução para o inglês: {traduzir_ingles}')"
   ]
  },
  {
   "cell_type": "markdown",
   "metadata": {},
   "source": [
    "\n",
    "**Verificação se há um trecho entre vírgulas separando sujeito e o verbo**\n"
   ]
  },
  {
   "cell_type": "code",
   "execution_count": 20,
   "metadata": {},
   "outputs": [],
   "source": [
    "# Caso não exista um trecho entre vírgulas na sentença\n",
    "palavra_antes_verbo = None \n",
    "\n",
    "tokens = nltk.word_tokenize(traduzir_ingles)\n",
    "tagged = nltk.pos_tag(tokens) \n",
    "for i,tag in enumerate(tagged):\n",
    "    if tag[0] == ',':\n",
    "        palavra_antes_verbo = tagged[i-1][0]\n",
    "        break\n",
    "    \n",
    "# Armazenar em uma string o trecho entre vírgula\n",
    "# Retirar esse trecho da sentenca em inglês por enquanto\n",
    "if palavra_antes_verbo != None:\n",
    "    for i in range(len(traduzir_ingles)):\n",
    "        if traduzir_ingles[i] == ',':\n",
    "            posicao_virgula1 = i\n",
    "            break\n",
    "\n",
    "    for i in range (posicao_virgula1+1, len(traduzir_ingles)):\n",
    "        if traduzir_ingles[i] == ',':\n",
    "            posicao_virgula2 = i\n",
    "            break\n",
    "\n",
    "    entre_virgulas = traduzir_ingles[posicao_virgula1:posicao_virgula2+1]\n",
    "    traduzir_ingles = traduzir_ingles.replace(entre_virgulas,\"\")\n",
    "    print(f'Tradução sem o trecho entre vírgulas: {traduzir_ingles}')"
   ]
  },
  {
   "cell_type": "markdown",
   "metadata": {},
   "source": [
    "-----------\n",
    "### **Tokenização**"
   ]
  },
  {
   "cell_type": "code",
   "execution_count": 21,
   "metadata": {},
   "outputs": [
    {
     "data": {
      "text/plain": [
       "[('The', 'DT'), ('car', 'NN'), ('hit', 'VBD'), ('the', 'DT'), ('boy', 'NN')]"
      ]
     },
     "metadata": {},
     "output_type": "display_data"
    }
   ],
   "source": [
    "tokens = nltk.word_tokenize(traduzir_ingles)\n",
    "#Lista de tuplas cujos elementos são respectivamente a palavra e sua morfologia\n",
    "tagged = nltk.pos_tag(tokens) \n",
    "display(tagged)"
   ]
  },
  {
   "cell_type": "markdown",
   "metadata": {},
   "source": [
    "----------\n",
    "### Identificar o sujeito e o objeto + Verificação se a voz é passiva ou ativa "
   ]
  },
  {
   "cell_type": "code",
   "execution_count": 22,
   "metadata": {},
   "outputs": [],
   "source": [
    "# Encontra o objeto da frase\n",
    "for i in range(len(tagged)-1, -1, -1):\n",
    "    if (tagged[i][1] == 'NN') or (tagged[i][1] == 'NNS'):\n",
    "        objeto = tagged[i][0]\n",
    "        posicao_objeto = i\n",
    "        break\n",
    "        \n",
    "# Encontra o sujeito da frase\n",
    "for i,tag in enumerate(tagged):\n",
    "    if (tag[1] == 'NN') or (tag[1] == 'NNS'):\n",
    "        sujeito = tag[0]\n",
    "        posicao_sujeito = i\n",
    "        break\n",
    "        \n",
    "#Encontra a posição do verbo        \n",
    "for i in range(len(tagged)):\n",
    "    #Verifica se o token é um verbo (independente do tempo)\n",
    "    if tagged[i][1][0] == 'V':\n",
    "        posicao_verbo = i\n",
    "        break\n",
    "\n",
    "#Necessidade de tranformar o texto em um objeto spacy.load para trabalhar com tempos verbais\n",
    "nlp = spacy.load(\"en_core_web_sm\")\n",
    "doc_dep = nlp(traduzir_ingles)"
   ]
  },
  {
   "cell_type": "markdown",
   "metadata": {},
   "source": [
    "**Verifica o tipo de voz a frase atual está empregada**"
   ]
  },
  {
   "cell_type": "code",
   "execution_count": 23,
   "metadata": {},
   "outputs": [
    {
     "data": {
      "text/plain": [
       "'Verbo no passado: None'"
      ]
     },
     "metadata": {},
     "output_type": "display_data"
    },
    {
     "data": {
      "text/plain": [
       "'Verbo no participio passado: hit'"
      ]
     },
     "metadata": {},
     "output_type": "display_data"
    },
    {
     "name": "stdout",
     "output_type": "stream",
     "text": [
      "['The', 'boy', 'was', 'hit', 'by', 'the', 'car']\n"
     ]
    }
   ],
   "source": [
    "verbo_passado = None\n",
    "verbo_participio_passado = None\n",
    "\n",
    "# Verifica se a voz é passiva (verb to be in the pass + verb in the past participle)\n",
    "if (tagged[posicao_verbo][1] == 'VBD') and (tagged[posicao_verbo+1][1] == 'VBN'):\n",
    "    for i in range(1,len(doc_dep)):\n",
    "        token = doc_dep[i-1]\n",
    "        proximo_token = doc_dep[i]\n",
    "        if (token.tag_ == 'VBD')  and (proximo_token.tag_ == 'VBN'): \n",
    "            verbo_passado = proximo_token._.inflect(\"VBD\")\n",
    "\n",
    "    #Representa uma lista com a sentenca ordenada para outra voz\n",
    "    traducao_para_portugues = modificar_para_ativa(objeto, sujeito,tagged, posicao_verbo, \n",
    "                                     posicao_objeto, \n",
    "                                     posicao_sujeito, verbo_passado)\n",
    "\n",
    "\n",
    "# Senão a voz é ativa (verb in the past)\n",
    "else:\n",
    "    for i in range(len(doc_dep)):\n",
    "        token = doc_dep[i]      \n",
    "        if token.tag_ == 'VBD': \n",
    "            verbo_participio_passado = token._.inflect(\"VBN\")\n",
    "\n",
    "    #Representa uma lista com a sentenca ordenada para outra voz\n",
    "    traducao_para_portugues = modificar_para_passiva(objeto, sujeito,tagged, posicao_verbo, \n",
    "                                     posicao_objeto, \n",
    "                                     posicao_sujeito, verbo_participio_passado)\n",
    "\n",
    "display(f'Verbo no passado: {verbo_passado}')\n",
    "display(f'Verbo no participio passado: {verbo_participio_passado}')\n",
    "print(traducao_para_portugues)"
   ]
  },
  {
   "cell_type": "markdown",
   "metadata": {},
   "source": [
    "----------\n",
    "### Tranformar a lista de palavras em uma string\n",
    "\n",
    "A partir de agora, caso existisse vírgula entre o sujeito e o verbo, a string é retificada. "
   ]
  },
  {
   "cell_type": "code",
   "execution_count": 24,
   "metadata": {},
   "outputs": [
    {
     "data": {
      "text/plain": [
       "'The boy was hit by the car'"
      ]
     },
     "execution_count": 24,
     "metadata": {},
     "output_type": "execute_result"
    }
   ],
   "source": [
    "if palavra_antes_verbo != None:\n",
    "    #Uma lista com todos os elementos da string\n",
    "    entre_virgulas = entre_virgulas.split()\n",
    "\n",
    "    indice_palavra_antes = traducao_para_portugues.index(palavra_antes_verbo)\n",
    "    \n",
    "    for i in range(len(entre_virgulas)):\n",
    "        traducao_para_portugues.insert(indice_palavra_antes+1+i, entre_virgulas[i])\n",
    "\n",
    "    #Retirar a segunda vírgula caso entre_virgulas estiver no final da frase na modificação.\n",
    "\n",
    "    if entre_virgulas[-1] == traducao_para_portugues[-1]:\n",
    "        ultimo_elemento = entre_virgulas[-1]\n",
    "        ultimo_elemento = ultimo_elemento.replace(',', \"\")\n",
    "        traducao_para_portugues[-1] = ultimo_elemento\n",
    "    else:\n",
    "        pass\n",
    "\n",
    "    traducao_para_portugues = \" \".join(traducao_para_portugues)\n",
    "\n",
    "else:\n",
    "    traducao_para_portugues = \" \".join(traducao_para_portugues)\n",
    "\n",
    "traducao_para_portugues "
   ]
  },
  {
   "cell_type": "markdown",
   "metadata": {},
   "source": [
    "------------\n",
    "### Retorno para o português"
   ]
  },
  {
   "cell_type": "code",
   "execution_count": 25,
   "metadata": {},
   "outputs": [
    {
     "name": "stdout",
     "output_type": "stream",
     "text": [
      "Sentença para ser modificada: O carro atropelou o menino.\n",
      "Sentença modificada: O menino foi atropelado pelo carro.\n"
     ]
    }
   ],
   "source": [
    "traducao_para_portugues = traducao_para_portugues + '.'\n",
    "nova_sentenca = GoogleTranslator(source='english', target='portuguese').translate(traducao_para_portugues)\n",
    "sentenca = sentenca + '.'\n",
    "print(f'Sentença para ser modificada: {sentenca}')\n",
    "print(f'Sentença modificada: {nova_sentenca}')"
   ]
  }
 ],
 "metadata": {
  "kernelspec": {
   "display_name": "Python 3",
   "language": "python",
   "name": "python3"
  },
  "language_info": {
   "codemirror_mode": {
    "name": "ipython",
    "version": 3
   },
   "file_extension": ".py",
   "mimetype": "text/x-python",
   "name": "python",
   "nbconvert_exporter": "python",
   "pygments_lexer": "ipython3",
   "version": "3.8.5"
  }
 },
 "nbformat": 4,
 "nbformat_minor": 4
}
