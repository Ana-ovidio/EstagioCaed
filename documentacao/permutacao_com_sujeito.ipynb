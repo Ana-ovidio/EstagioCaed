{
 "cells": [
  {
   "cell_type": "markdown",
   "metadata": {},
   "source": [
    "## **COMO RODAR?**\n",
    "\n",
    "Dentro de cada célula, apertar *Ctrl+Enter* ou clicar em *Run* - ícone superior da página.\n",
    "\n",
    "**Observação 1:** \n",
    "- Rodar as células em ordem. A última célula terá o resultado que deseja. \n",
    "\n",
    "Caso queira rodar todas as células de uma vez: cell -> Run All\n",
    "\n",
    "**Observação 2:** \n",
    "- Qualquer modificação em uma célula, todas devem ser rodadas novamente e em ordem. "
   ]
  },
  {
   "cell_type": "markdown",
   "metadata": {},
   "source": [
    "### Instalações necessárias antes de utilizar este módulo. \n",
    "\n",
    "    ! pip install nltk\n",
    "    nltk.download()\n",
    "    ! pip install deep_translator\n"
   ]
  },
  {
   "cell_type": "code",
   "execution_count": 8,
   "metadata": {},
   "outputs": [],
   "source": [
    "import nltk\n",
    "from itertools import permutations\n",
    "from deep_translator import GoogleTranslator"
   ]
  },
  {
   "cell_type": "markdown",
   "metadata": {},
   "source": [
    "---------\n",
    "**Tradução da sentença em inglês**\n",
    "\n",
    "**Por que traduzir?**\n",
    "\n",
    "    Porque a maioria das bilbiotecas para tokenizar e para encontrar a morfologia são associadas à lingua inglesa. Isso otimiza o código, evitando que ele trave dependendo do computador."
   ]
  },
  {
   "cell_type": "code",
   "execution_count": 9,
   "metadata": {},
   "outputs": [
    {
     "name": "stdout",
     "output_type": "stream",
     "text": [
      "Tradução para o inglês: The Second World War, a military conflict between 1939 and 1945, involved the greatest powers of the time.\n"
     ]
    }
   ],
   "source": [
    "sentenca = 'A Segunda Guerra Mundial, conflito militar entre 1939 a 1945, envolveu as maiores potências da época'\n",
    "\n",
    "traduzir_ingles  = GoogleTranslator(source='portuguese', target='english').translate(sentenca)\n",
    "print(f'Tradução para o inglês: {traduzir_ingles}')"
   ]
  },
  {
   "cell_type": "markdown",
   "metadata": {},
   "source": [
    "-------\n",
    "**Tokenização**"
   ]
  },
  {
   "cell_type": "code",
   "execution_count": 10,
   "metadata": {},
   "outputs": [
    {
     "data": {
      "text/plain": [
       "[('The', 'DT'),\n",
       " ('Second', 'JJ'),\n",
       " ('World', 'NNP'),\n",
       " ('War', 'NNP'),\n",
       " (',', ','),\n",
       " ('a', 'DT'),\n",
       " ('military', 'JJ'),\n",
       " ('conflict', 'NN'),\n",
       " ('between', 'IN'),\n",
       " ('1939', 'CD'),\n",
       " ('and', 'CC'),\n",
       " ('1945', 'CD'),\n",
       " (',', ','),\n",
       " ('involved', 'VBD'),\n",
       " ('the', 'DT'),\n",
       " ('greatest', 'JJS'),\n",
       " ('powers', 'NNS'),\n",
       " ('of', 'IN'),\n",
       " ('the', 'DT'),\n",
       " ('time', 'NN')]"
      ]
     },
     "metadata": {},
     "output_type": "display_data"
    }
   ],
   "source": [
    "tokens = nltk.word_tokenize(traduzir_ingles)\n",
    "if '.' in tokens:\n",
    "    tokens.remove('.')\n",
    "#Lista de tuplas cujos elementos são respectivamente a palavra e sua morfologia\n",
    "tagged = nltk.pos_tag(tokens) \n",
    "display(tagged)"
   ]
  },
  {
   "cell_type": "markdown",
   "metadata": {},
   "source": [
    "-----------\n",
    "**Primeira função a ser chamada**\n",
    "\n",
    "Separa sujeito (inclui o aposto) do predicado.\n",
    "\n",
    "Posteriormente, separa o sujeito do aposto caso exista. "
   ]
  },
  {
   "cell_type": "code",
   "execution_count": 4,
   "metadata": {},
   "outputs": [],
   "source": [
    "def separa_elementos_oracao (tagged):\n",
    "\n",
    "    sujeito = []\n",
    "    predicado = []\n",
    "\n",
    "    #Separar o sujeito do predicado\n",
    "    for i,tag in enumerate(tagged):\n",
    "        if tag[1][0]== 'V':\n",
    "            break\n",
    "        else:\n",
    "            sujeito.append(tag[0])\n",
    "            \n",
    "    for j in range(i,len(tagged)):\n",
    "        predicado.append(tagged[j][0])\n",
    "    predicado_concatenado = []\n",
    "    predicado_concatenado.append(' '.join(predicado))\n",
    "\n",
    "    #Separar o sujeito principal do aposto  \n",
    "    aposto = []\n",
    "    sujeito_principal = []\n",
    "\n",
    "    qnt_virgulas = 0\n",
    "    posicao_virgulas = []\n",
    "    for i,tag in enumerate(tagged):\n",
    "        if tag[0] == ',':\n",
    "            qnt_virgulas = qnt_virgulas + 1\n",
    "            posicao_virgulas.append(i)\n",
    "    \n",
    "    if len(posicao_virgulas) == 1:\n",
    "        aposto = sujeito[:posicao_virgulas[0]]\n",
    "        sujeito_principal = sujeito[posicao_virgulas[0]+1:]\n",
    "    elif len(posicao_virgulas) == 2:\n",
    "        aposto = sujeito[posicao_virgulas[0]+1:posicao_virgulas[1]]\n",
    "        sujeito_principal = sujeito[:posicao_virgulas[0]]+sujeito[posicao_virgulas[1]+1:]\n",
    "    else:\n",
    "        sujeito_principal = sujeito\n",
    "    suj = [] #sujeito em string\n",
    "    aposto_suj = [] #aposto em string\n",
    "\n",
    "    suj.append(' '.join(sujeito_principal))\n",
    "    if len(aposto) != 0:\n",
    "        aposto_suj.append(' '.join(aposto))\n",
    "    else:\n",
    "        aposto_suj.append(None)\n",
    "        \n",
    "    return suj[0], aposto_suj[0], predicado_concatenado\n"
   ]
  },
  {
   "cell_type": "markdown",
   "metadata": {},
   "source": [
    "-------------\n",
    "**Permutação entre o sujeito e o aposto**\n",
    "\n",
    "O aposto da uma característica ao sujeito, logo a frase não tem sentido caso exista a permutação: sujeito + verbo + aposto OU aposto + verbo + sujeito"
   ]
  },
  {
   "cell_type": "code",
   "execution_count": 5,
   "metadata": {},
   "outputs": [],
   "source": [
    "def permutacao_sujeito_aposto(suj, aposto=None):\n",
    "    \n",
    "    if aposto != None:\n",
    "        primeira_permutacao = list(permutations([suj, aposto]))\n",
    "\n",
    "        inserir_virgula = []  \n",
    "        permutacoes_string = []\n",
    "\n",
    "        #Tranformar tuplas em lista para permitir modificação\n",
    "        permutacoes = []\n",
    "        for tupla in primeira_permutacao:\n",
    "            permutacoes.append(list(tupla))\n",
    "        \n",
    "        for i, permutacao in enumerate(permutacoes):\n",
    "            #A primeira sentenca da permutação começa com letra maiúscula\n",
    "            if permutacao[0][0] == permutacao[0][0].upper():\n",
    "                pass\n",
    "            else:\n",
    "                lista_palavras = list(permutacao[0])\n",
    "                lista_palavras[0] = lista_palavras[0].upper()\n",
    "                permutacao[0] = ''.join(lista_palavras)\n",
    "            #A segunda sentenca da permutação começa com letra maiúscula    \n",
    "            if permutacao[1][0] == permutacao[1][0].upper():\n",
    "                lista_palavras = list(permutacao[1])\n",
    "                lista_palavras[0] = lista_palavras[0].lower()\n",
    "                permutacao[1] = ''.join(lista_palavras)\n",
    "            else:\n",
    "                pass\n",
    "                \n",
    "        # Concatenar strings permutadas\n",
    "        permutacoes_concatenadas = []\n",
    "        for i in range(len(permutacoes)):\n",
    "            permutacoes_concatenadas.append(' '.join(permutacoes[i]))\n",
    "    \n",
    "    else:\n",
    "        permutacoes_concatenadas = [suj]\n",
    "         \n",
    "    return permutacoes_concatenadas  "
   ]
  },
  {
   "cell_type": "markdown",
   "metadata": {},
   "source": [
    "-------------\n",
    "**Permutação entre as permutações da função anterior com o predicado**"
   ]
  },
  {
   "cell_type": "code",
   "execution_count": 6,
   "metadata": {},
   "outputs": [],
   "source": [
    "def permutacao_sujeito_predicado(sujeitos, predicado):\n",
    "    \n",
    "    primeira_permutacao = []\n",
    "    for sujeito in sujeitos:\n",
    "        primeira_permutacao.append(list(permutations([sujeito, predicado[0]])))\n",
    "\n",
    "    #Tranformar tuplas em lista para permitir modificação\n",
    "    permutacoes = []\n",
    "    for lista in primeira_permutacao:\n",
    "        for tupla in lista:\n",
    "            permutacoes.append(list(tupla))\n",
    "            \n",
    "        for i, permutacao in enumerate(permutacoes):\n",
    "            #A primeira sentenca da permutação começa com letra maiúscula\n",
    "            if permutacao[0][0] == permutacao[0][0].upper():\n",
    "                pass\n",
    "            else:\n",
    "                lista_palavras = list(permutacao[0])\n",
    "                lista_palavras[0] = lista_palavras[0].upper()\n",
    "                permutacao[0] = ''.join(lista_palavras)\n",
    "            #A segunda sentenca da permutação começa com letra maiúscula    \n",
    "            if permutacao[1][0] == permutacao[1][0].upper():\n",
    "                lista_palavras = list(permutacao[1])\n",
    "                lista_palavras[0] = lista_palavras[0].lower()\n",
    "                permutacao[1] = ''.join(lista_palavras)\n",
    "            else:\n",
    "                pass\n",
    "        \n",
    "        # Concatenar strings permutadas\n",
    "        permutacoes_concatenadas = []\n",
    "        for i in range(len(permutacoes)):\n",
    "    \n",
    "            if permutacoes[i][-1][-1] == ',':\n",
    "                frase_com_virgula = list(permutacoes[i][-1])\n",
    "                frase_com_virgula[-1] = '.'\n",
    "                permutacoes[i][-1] = ''.join(frase_com_virgula)\n",
    "            permutacoes_concatenadas.append(' '.join(permutacoes[i]))\n",
    "\n",
    "    return permutacoes_concatenadas\n",
    "                "
   ]
  },
  {
   "cell_type": "code",
   "execution_count": 11,
   "metadata": {},
   "outputs": [
    {
     "name": "stdout",
     "output_type": "stream",
     "text": [
      "Sujeito: The Second World War - Aposto: a military conflict between 1939 and 1945\n"
     ]
    }
   ],
   "source": [
    "#Nesse caso não há sujeito indeterminado tampouco oculto. \n",
    "\n",
    "sujeito, aposto, predicado = separa_elementos_oracao(tagged)\n",
    "print(f'Sujeito: {sujeito} - Aposto: {aposto}')\n",
    "\n",
    "if aposto != None:\n",
    "    permt_suj_apost = permutacao_sujeito_aposto(sujeito, aposto=aposto)\n",
    "\n",
    "else:\n",
    "    permt_suj_apost = permutacao_sujeito_aposto(sujeito)\n",
    "\n",
    "permutacoes = permutacao_sujeito_predicado(permt_suj_apost, predicado)"
   ]
  },
  {
   "cell_type": "markdown",
   "metadata": {},
   "source": [
    "---------\n",
    "## **Resultado**"
   ]
  },
  {
   "cell_type": "code",
   "execution_count": 12,
   "metadata": {},
   "outputs": [
    {
     "name": "stdout",
     "output_type": "stream",
     "text": [
      "A Segunda Guerra Mundial um conflito militar entre 1939 e 1945 envolveu as maiores potências da época.\n",
      "Envolveu as maiores potências da época a Segunda Guerra Mundial um conflito militar entre 1939 e 1945.\n",
      "Um conflito militar entre 1939 e 1945 a Segunda Guerra Mundial envolveu as maiores potências da época.\n",
      "Envolveu as maiores potências da época um conflito militar entre 1939 e 1945 a Segunda Guerra Mundial.\n"
     ]
    }
   ],
   "source": [
    "for permutacao in permutacoes:\n",
    "    if permutacao[-1]!= '.':\n",
    "        permutacao = permutacao + '.'\n",
    "    permutacao = GoogleTranslator(source='english', target='portuguese').translate(permutacao)\n",
    "    print(permutacao)"
   ]
  }
 ],
 "metadata": {
  "kernelspec": {
   "display_name": "Python 3",
   "language": "python",
   "name": "python3"
  },
  "language_info": {
   "codemirror_mode": {
    "name": "ipython",
    "version": 3
   },
   "file_extension": ".py",
   "mimetype": "text/x-python",
   "name": "python",
   "nbconvert_exporter": "python",
   "pygments_lexer": "ipython3",
   "version": "3.8.5"
  }
 },
 "nbformat": 4,
 "nbformat_minor": 4
}
