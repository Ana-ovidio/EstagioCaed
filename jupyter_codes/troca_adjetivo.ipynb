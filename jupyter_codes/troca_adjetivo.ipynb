{
 "cells": [
  {
   "cell_type": "markdown",
   "metadata": {},
   "source": [
    "## **COMO RODAR?**\n",
    "\n",
    "Dentro de cada célula, apertar *Ctrl+Enter* ou clicar em *Run* - ícone superior da página.\n",
    "\n",
    "**Observação 1:** \n",
    "- Rodar as células em ordem. A última célula terá o resultado que deseja. \n",
    "\n",
    "Caso queira rodar todas as células de uma vez: cell -> Run All\n",
    "\n",
    "**Observação 2:** \n",
    "- Qualquer modificação em uma célula, todas devem ser rodadas novamente e em ordem. "
   ]
  },
  {
   "cell_type": "markdown",
   "metadata": {},
   "source": [
    "### Instalações necessárias antes de utilizar este módulo. \n",
    "\n",
    "    ! pip install nltk\n",
    "    nltk.download()\n",
    "    ! pip install deep_translator\n"
   ]
  },
  {
   "cell_type": "code",
   "execution_count": 15,
   "metadata": {},
   "outputs": [],
   "source": [
    "import nltk\n",
    "from nltk.corpus import wordnet as wn\n",
    "from random import choices\n",
    "from deep_translator import GoogleTranslator"
   ]
  },
  {
   "cell_type": "code",
   "execution_count": 10,
   "metadata": {},
   "outputs": [],
   "source": [
    "sentenca = \"A menina é inteligente\""
   ]
  },
  {
   "cell_type": "markdown",
   "metadata": {},
   "source": [
    "---------\n",
    "**Tradução da sentença em inglês**\n",
    "\n",
    "**Por que traduzir?**\n",
    "\n",
    "    Porque a maioria das bilbiotecas para tokenizar e para encontrar a morfologia são associadas à lingua inglesa. Isso otimiza o código, evitando que ele trave dependendo do computador."
   ]
  },
  {
   "cell_type": "code",
   "execution_count": 11,
   "metadata": {},
   "outputs": [
    {
     "data": {
      "text/plain": [
       "'the girl is smart'"
      ]
     },
     "execution_count": 11,
     "metadata": {},
     "output_type": "execute_result"
    }
   ],
   "source": [
    "traduzir_ingles  = GoogleTranslator(source='portuguese', target='english').translate(sentenca)\n",
    "traduzir_ingles"
   ]
  },
  {
   "cell_type": "markdown",
   "metadata": {},
   "source": [
    "----------\n",
    "**Tokenização**"
   ]
  },
  {
   "cell_type": "code",
   "execution_count": 12,
   "metadata": {},
   "outputs": [
    {
     "data": {
      "text/plain": [
       "[('the', 'DT'), ('girl', 'NN'), ('is', 'VBZ'), ('smart', 'JJ')]"
      ]
     },
     "execution_count": 12,
     "metadata": {},
     "output_type": "execute_result"
    }
   ],
   "source": [
    "tokens = nltk.word_tokenize(traduzir_ingles)\n",
    "#Lista de tuplas cujos elementos são respectivamente a palavra e sua morfologia\n",
    "tagged = nltk.pos_tag(tokens) \n",
    "tagged"
   ]
  },
  {
   "cell_type": "code",
   "execution_count": 13,
   "metadata": {
    "scrolled": true
   },
   "outputs": [
    {
     "name": "stdout",
     "output_type": "stream",
     "text": [
      "smart\n"
     ]
    }
   ],
   "source": [
    "for tag in tagged:\n",
    "    if tag[1]== 'JJ':\n",
    "        adjetivo = tag[0]\n",
    "        break\n",
    "    else: \n",
    "        adjetivo = None\n",
    "print(adjetivo)"
   ]
  },
  {
   "cell_type": "markdown",
   "metadata": {},
   "source": [
    "------------\n",
    "**Encontra os sinônimos e antônimos**"
   ]
  },
  {
   "cell_type": "code",
   "execution_count": 16,
   "metadata": {},
   "outputs": [],
   "source": [
    "synonyms = []\n",
    "antonyms = []\n",
    "  \n",
    "for syn in wn.synsets(adjetivo):\n",
    "    for lemma in syn.lemmas():\n",
    "        synonyms.append(lemma.name())\n",
    "        if lemma.antonyms():\n",
    "            antonyms.append(lemma.antonyms()[0].name())\n",
    "            \n",
    "for palavra in synonyms:\n",
    "    if palavra == adjetivo:\n",
    "        synonyms.remove(palavra)\n",
    "        \n",
    "for palavra in antonyms:\n",
    "    if palavra == adjetivo:\n",
    "        antonyms.remove(palavra)    "
   ]
  },
  {
   "cell_type": "code",
   "execution_count": 17,
   "metadata": {
    "scrolled": false
   },
   "outputs": [
    {
     "name": "stdout",
     "output_type": "stream",
     "text": [
      "Sinônimos: ['smarting', 'smartness', 'ache', 'hurt', 'chic', 'voguish', 'bright', 'fresh', 'impertinent', 'impudent', 'overbold', 'saucy', 'sassy', 'wise', 'smart']\n",
      "\n",
      "Antônimos: ['stupid']\n"
     ]
    }
   ],
   "source": [
    "print(f'Sinônimos: {synonyms}')\n",
    "print(f'\\nAntônimos: {antonyms}')                  "
   ]
  },
  {
   "cell_type": "code",
   "execution_count": 18,
   "metadata": {},
   "outputs": [
    {
     "name": "stdout",
     "output_type": "stream",
     "text": [
      "Adjetivo selecionado: stupid\n"
     ]
    }
   ],
   "source": [
    "from random import choices\n",
    "\n",
    "tipo_troca = choices(['synonyms', 'antonyms'])\n",
    "tipo_troca\n",
    "\n",
    "if (len(antonyms) == 0) and (len(synonyms) != 0):\n",
    "    novo_adjetivo = choices(synonyms)\n",
    "elif (len(synonyms) == 0) and (len(antonyms) != 0):\n",
    "    novo_adjetivo = choices(antonyms)\n",
    "elif (len(antonyms) == 0) and (len(synonyms)!=0):\n",
    "    novo_adjetivo = None\n",
    "elif tipo_troca == 'synonyms':\n",
    "    novo_adjetivo = choices(synonyms)\n",
    "else:\n",
    "    novo_adjetivo = choices(antonyms)\n",
    "\n",
    "\n",
    "print(f'Adjetivo selecionado: {novo_adjetivo[0]}')\n",
    "\n",
    "nova_sentenca = traduzir_ingles.replace(adjetivo,novo_adjetivo[0])\n",
    "\n",
    "nova_sentenca_pt = GoogleTranslator(source='english', target='portuguese').translate(nova_sentenca)"
   ]
  },
  {
   "cell_type": "markdown",
   "metadata": {},
   "source": [
    "-----------\n",
    "## **Resultado**"
   ]
  },
  {
   "cell_type": "code",
   "execution_count": 19,
   "metadata": {
    "scrolled": true
   },
   "outputs": [
    {
     "data": {
      "text/plain": [
       "'a menina é burra'"
      ]
     },
     "execution_count": 19,
     "metadata": {},
     "output_type": "execute_result"
    }
   ],
   "source": [
    "nova_sentenca_pt"
   ]
  }
 ],
 "metadata": {
  "kernelspec": {
   "display_name": "Python 3",
   "language": "python",
   "name": "python3"
  },
  "language_info": {
   "codemirror_mode": {
    "name": "ipython",
    "version": 3
   },
   "file_extension": ".py",
   "mimetype": "text/x-python",
   "name": "python",
   "nbconvert_exporter": "python",
   "pygments_lexer": "ipython3",
   "version": "3.8.5"
  }
 },
 "nbformat": 4,
 "nbformat_minor": 4
}
