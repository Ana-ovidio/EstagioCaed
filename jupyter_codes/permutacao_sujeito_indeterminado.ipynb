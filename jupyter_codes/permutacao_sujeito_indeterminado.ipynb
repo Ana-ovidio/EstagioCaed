{
 "cells": [
  {
   "cell_type": "markdown",
   "metadata": {},
   "source": [
    "## **COMO RODAR?**\n",
    "\n",
    "Dentro de cada célula, apertar *Ctrl+Enter* ou clicar em *Run* - ícone superior da página.\n",
    "\n",
    "**Observação 1:** \n",
    "- Rodar as células em ordem. A última célula terá o resultado que deseja. \n",
    "\n",
    "Caso queira rodar todas as células de uma vez: cell -> Run All\n",
    "\n",
    "**Observação 2:** \n",
    "- Qualquer modificação em uma célula, todas devem ser rodadas novamente e em ordem. "
   ]
  },
  {
   "cell_type": "markdown",
   "metadata": {},
   "source": [
    "### Instalações necessárias antes de utilizar este módulo. \n",
    "\n",
    "    ! pip install nltk\n",
    "    ! pip install deep_translator\n"
   ]
  },
  {
   "cell_type": "code",
   "execution_count": 1,
   "metadata": {
    "scrolled": true
   },
   "outputs": [],
   "source": [
    "import nltk\n",
    "from nltk.corpus import brown\n",
    "from itertools import permutations\n",
    "from deep_translator import GoogleTranslator"
   ]
  },
  {
   "cell_type": "markdown",
   "metadata": {},
   "source": [
    "---------\n",
    "**Tradução da sentença em inglês**\n",
    "\n",
    "**Por que traduzir?**\n",
    "\n",
    "    Porque a maioria das bilbiotecas para tokenizar e para encontrar a morfologia são associadas à lingua inglesa. Isso otimiza o código, evitando que ele trave dependendo do computador."
   ]
  },
  {
   "cell_type": "code",
   "execution_count": 2,
   "metadata": {},
   "outputs": [
    {
     "name": "stdout",
     "output_type": "stream",
     "text": [
      "Tradução para o inglês: It thundered this morning\n"
     ]
    }
   ],
   "source": [
    "sentenca = 'Trovejou nessa manhã'\n",
    "\n",
    "traduzir_ingles  = GoogleTranslator(source='portuguese', target='english').translate(sentenca)\n",
    "print(f'Tradução para o inglês: {traduzir_ingles}')"
   ]
  },
  {
   "cell_type": "markdown",
   "metadata": {},
   "source": [
    "--------\n",
    "**Tokenização**"
   ]
  },
  {
   "cell_type": "code",
   "execution_count": 3,
   "metadata": {
    "scrolled": true
   },
   "outputs": [
    {
     "data": {
      "text/plain": [
       "[('It', 'PRP'), ('thundered', 'VBD'), ('this', 'DT'), ('morning', 'NN')]"
      ]
     },
     "metadata": {},
     "output_type": "display_data"
    }
   ],
   "source": [
    "tokens = nltk.word_tokenize(traduzir_ingles)\n",
    "if '.' in tokens:\n",
    "    tokens.remove('.')\n",
    "#Lista de tuplas cujos elementos são respectivamente a palavra e sua morfologia\n",
    "tagged = nltk.pos_tag(tokens) \n",
    "display(tagged)"
   ]
  },
  {
   "cell_type": "markdown",
   "metadata": {},
   "source": [
    "-----\n",
    "**Separa em duas orações**\n",
    "\n",
    "Uma vez que verbo auxiliar não deve ser separado do verbo principal. Como no caso de *estava chovendo*\n",
    "\n",
    "**Observações:**\n",
    "\n",
    "- Como não há sujeito, uma classificação morfológica 'NN' ou 'NNS' representa um advérbio.\n",
    "- Separar o advérbio do verbo é a principal função. "
   ]
  },
  {
   "cell_type": "code",
   "execution_count": 4,
   "metadata": {},
   "outputs": [],
   "source": [
    "primeira_oracao = [] \n",
    "for i, tag in enumerate(tagged):\n",
    "    if tag[1][0] == 'N':\n",
    "        existe_verbo = False\n",
    "        break\n",
    "    elif tag[1][0] == 'V':\n",
    "        existe_verbo = True\n",
    "        break\n",
    "    else:\n",
    "        primeira_oracao.append(tag)\n",
    "\n",
    "\n",
    "if existe_verbo == True:\n",
    "    primeira_oracao.append(tag)\n",
    "    i = i+1\n",
    "    while i != len(tagged)-1:\n",
    "        if tagged[i][1][0] == 'V':\n",
    "            primeira_oracao.append(tagged[i])\n",
    "            i = i+1\n",
    "        else:\n",
    "            break\n",
    "    segunda_oracao = tagged[i+1:]\n",
    "else:\n",
    "    primeira_oracao.append(tag)\n",
    "    i = i+1\n",
    "    while i != len(tagged)-1:\n",
    "        if (tagged[i][1][0] != 'V') and (tagged[i][1] != 'PRP'):\n",
    "            primeira_oracao.append(tagged[i])\n",
    "            i = i+1\n",
    "        else:\n",
    "            break\n",
    "    segunda_oracao = tagged[i:]\n",
    "        \n",
    "for i,tag in enumerate(primeira_oracao):\n",
    "    primeira_oracao[i] = tag[0]\n",
    "for i,tag in enumerate(segunda_oracao):\n",
    "    segunda_oracao[i] = tag[0]\n",
    "            \n",
    "    "
   ]
  },
  {
   "cell_type": "markdown",
   "metadata": {},
   "source": [
    "--------\n",
    "**Permutação entre a oração que contém o advérbio e aquela que contém o verbo**"
   ]
  },
  {
   "cell_type": "code",
   "execution_count": 5,
   "metadata": {},
   "outputs": [],
   "source": [
    "def permutacao_oracoes (oracoes):\n",
    "    \n",
    "    primeira_permutacao = list(permutations(oracoes))\n",
    "    \n",
    "    #Tranformar tuplas em lista para permitir modificação\n",
    "    permutacoes = []\n",
    "    for tupla in primeira_permutacao:\n",
    "        permutacoes.append(list(tupla))   \n",
    "    permutacoes_concatenadas = []\n",
    "    \n",
    "    #Concatenar as strings\n",
    "    for permutacao in permutacoes:\n",
    "        if permutacao[0][0] == permutacao[0][0].upper():\n",
    "            pass\n",
    "        else:\n",
    "            primeira_string = list(permutacao[0])\n",
    "            primeira_string[0] = primeira_string[0].upper()\n",
    "            permutacao[0] = ''.join(primeira_string)\n",
    "            \n",
    "            segunda_string = list(permutacao[1])\n",
    "            segunda_string[0] = segunda_string[0].lower()\n",
    "            permutacao[1] = ''.join(segunda_string)\n",
    "            \n",
    "        permutacoes_concatenadas.append(' '.join(permutacao))\n",
    "    \n",
    "    return permutacoes_concatenadas\n",
    "            "
   ]
  },
  {
   "cell_type": "code",
   "execution_count": 6,
   "metadata": {},
   "outputs": [
    {
     "name": "stdout",
     "output_type": "stream",
     "text": [
      "Oração 1: It thundered\n",
      "Oração 2: morning\n"
     ]
    }
   ],
   "source": [
    "primeira_oracao = ' '.join(primeira_oracao)\n",
    "segunda_oracao = ' '.join(segunda_oracao)\n",
    "\n",
    "print(f'Oração 1: {primeira_oracao}')\n",
    "print(f'Oração 2: {segunda_oracao}')\n",
    "\n",
    "oracoes = []\n",
    "oracoes.append(primeira_oracao)\n",
    "oracoes.append(segunda_oracao)\n",
    "\n",
    "permutacoes = permutacao_oracoes(oracoes)"
   ]
  },
  {
   "cell_type": "markdown",
   "metadata": {},
   "source": [
    "----------\n",
    "## **Resultado**"
   ]
  },
  {
   "cell_type": "code",
   "execution_count": 7,
   "metadata": {
    "scrolled": true
   },
   "outputs": [
    {
     "name": "stdout",
     "output_type": "stream",
     "text": [
      "trovejou de manhã\n",
      "Manhã trovejou\n"
     ]
    }
   ],
   "source": [
    "possibilidades_frase = []\n",
    "for permutacao in permutacoes:\n",
    "    possibilidades_frase.append(GoogleTranslator(source='english', target='portuguese').translate(permutacao))\n",
    "for i in possibilidades_frase:\n",
    "    print(i)"
   ]
  }
 ],
 "metadata": {
  "kernelspec": {
   "display_name": "Python 3",
   "language": "python",
   "name": "python3"
  },
  "language_info": {
   "codemirror_mode": {
    "name": "ipython",
    "version": 3
   },
   "file_extension": ".py",
   "mimetype": "text/x-python",
   "name": "python",
   "nbconvert_exporter": "python",
   "pygments_lexer": "ipython3",
   "version": "3.8.5"
  }
 },
 "nbformat": 4,
 "nbformat_minor": 4
}
