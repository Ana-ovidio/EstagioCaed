{
 "cells": [
  {
   "cell_type": "markdown",
   "metadata": {},
   "source": [
    "## **COMO RODAR?**\n",
    "\n",
    "Dentro de cada célula, apertar *Ctrl+Enter* ou clicar em *Run* - ícone superior da página.\n",
    "\n",
    "**Observação 1:** \n",
    "- Rodar as células em ordem. A última célula terá o resultado que deseja. \n",
    "\n",
    "Caso queira rodar todas as células de uma vez: cell -> Run All\n",
    "\n",
    "**Observação 2:** \n",
    "- Qualquer modificação em uma célula, todas devem ser rodadas novamente e em ordem. "
   ]
  },
  {
   "cell_type": "markdown",
   "metadata": {},
   "source": [
    "### **Instalações necessárias antes de rodar o código**\n",
    "\n",
    "    !pip install nltk\n",
    "    !pip install selenium --user \n",
    "\n",
    "**Observação:** *--user* é somente em caso do Jupyter não reconhecer alguns comandos do seu navegador. "
   ]
  },
  {
   "cell_type": "code",
   "execution_count": 1,
   "metadata": {},
   "outputs": [],
   "source": [
    "import nltk"
   ]
  },
  {
   "cell_type": "code",
   "execution_count": 3,
   "metadata": {},
   "outputs": [
    {
     "data": {
      "text/plain": [
       "'Aqueles amigos eram engraçados'"
      ]
     },
     "execution_count": 3,
     "metadata": {},
     "output_type": "execute_result"
    }
   ],
   "source": [
    "sentenca = \"Aqueles amigos eram engraçados\"\n",
    "\n",
    "#Garantir que a frase sempre começe com letra maiúscula.\n",
    "# Não vale a pena utilizar o replace.\n",
    "lista_sentenca = list(sentenca)\n",
    "lista_sentenca[0] = lista_sentenca[0].upper()\n",
    "sentenca = ''.join(lista_sentenca)\n",
    "sentenca"
   ]
  },
  {
   "cell_type": "markdown",
   "metadata": {},
   "source": [
    "----------\n",
    "**Tokenização**\n",
    "\n",
    "*tokens* = Uma lista cujos elementos são as palavras da string *sentenca*"
   ]
  },
  {
   "cell_type": "code",
   "execution_count": 6,
   "metadata": {},
   "outputs": [
    {
     "data": {
      "text/plain": [
       "['Aqueles', 'amigos', 'eram', 'engraçados']"
      ]
     },
     "execution_count": 6,
     "metadata": {},
     "output_type": "execute_result"
    }
   ],
   "source": [
    "tokens = nltk.word_tokenize(sentenca)\n",
    "if '.' in tokens:\n",
    "    tokens.remove('.')\n",
    "tokens"
   ]
  },
  {
   "cell_type": "markdown",
   "metadata": {},
   "source": [
    "-----------\n",
    "**Descobre qual gênero a frase atual foi empregada**"
   ]
  },
  {
   "cell_type": "code",
   "execution_count": 7,
   "metadata": {},
   "outputs": [
    {
     "data": {
      "text/plain": [
       "'masculino'"
      ]
     },
     "metadata": {},
     "output_type": "display_data"
    }
   ],
   "source": [
    "pronomes_artigos_femininos = ['A','Uma','Alguma','Aquela','Umas','Algumas','Aquelas']\n",
    "pronomes_artigos_masculinos = ['O', 'Um', 'Algum', 'Aquele', 'Uns', 'Alguns', 'Aqueles']\n",
    "\n",
    "if tokens[0] in pronomes_artigos_femininos:\n",
    "    genero = 'feminino'\n",
    "elif tokens[0] in pronomes_artigos_masculinos:\n",
    "    genero = 'masculino'\n",
    "else:\n",
    "    genero = None\n",
    "\n",
    "display(genero)"
   ]
  },
  {
   "cell_type": "markdown",
   "metadata": {},
   "source": [
    "-------------\n",
    "### **Classe responsável por trocar o gênero**\n",
    "\n",
    "**Função**: *__init__*\n",
    "\n",
    "Função que define as variáveis globais de todas as funções pertencentes à classe.\n",
    "\n",
    "    self.tokens = lista com as palavras da string sentenca\n",
    "\n",
    "    self.genero = gênero inicial\n",
    "\n",
    "    self.inicio_fem = lista com artigos e pronomes femininos que estarão no inicio da frase. \n",
    "\n",
    "    self.inicio_masc = lista com artigos e pronomes masculinos que estarão no inicio da frase. \n",
    "-------\n",
    "    \n",
    "**Função**: *modifica_elementos_sing*\n",
    "\n",
    "Caso a sentenca inicial esteja no singular:\n",
    "    \n",
    "    Verifica qual o gênero e estabelece três principios de mudança:\n",
    "    \n",
    "    1- Terminações or/ ora -- (cantor/cantora)\n",
    "    2- Terminações com a/ o desconsiderando o primeiro caso (amiga/ amigo)\n",
    "    3- Substantivos que equivalem tanto para feminino e para masculino. \n",
    "    \n",
    " **Limitação:** Caso o substantivo seja homem/mulher, cão/cadela ect o algoritmo não traduz. \n",
    " \n",
    " Uma solução seria a implementação de uma automação web, mas exige um tempo maior de implementação uma vez que a biblioteca *selenium.py* -responsável pela automação- depende do navegador padrão de cada computador.\n",
    " \n",
    "     Após substituir o substantivo, o algoritmo mantém o verbo e modifica o adjetivo. \n",
    "\n",
    "--------\n",
    "\n",
    "**Função**: *modifica_elementos_plural*\n",
    "\n",
    "Mesmo processo que a função *modifica_elementos_sing*. No entanto, esta função é específica para sentenças no plural. "
   ]
  },
  {
   "cell_type": "code",
   "execution_count": 9,
   "metadata": {},
   "outputs": [],
   "source": [
    "class TrocaGenero ():\n",
    "    def __init__(self, genero, tokens):\n",
    "        \n",
    "        self.tokens = tokens\n",
    "        self.genero = genero\n",
    "        self.inicio_fem = ['A','Uma','Alguma','Aquela','Umas','Algumas','Aquelas']\n",
    "        self.inicio_masc = ['O', 'Um', 'Algum', 'Aquele', 'Uns', 'Alguns', 'Aqueles']\n",
    "        \n",
    "\n",
    "    def modifica_elementos_sing(self):\n",
    "        troca_genero = []\n",
    "        \n",
    "        if self.genero == 'feminino':        \n",
    "            pos_artigo = self.inicio_fem.index(self.tokens[0])\n",
    "            troca_genero.append(self.inicio_masc[pos_artigo])\n",
    "            \n",
    "            #Trocar o substantivo\n",
    "            if 'ora' in self.tokens[1]:\n",
    "                 troca_genero.append(self.tokens[1].replace('ora', 'or'))\n",
    "            # Não há problema esta verificação, pois a string 'ora' já foi verificada\n",
    "            elif 'a' in self.tokens[1][-1]:\n",
    "                tamanho_sub = len(self.tokens[1])\n",
    "                troca_genero.append(self.tokens[1][:tamanho_sub-1] + 'o')\n",
    "            elif ('ente', 'esta', 'ante'):\n",
    "                troca_genero.append(self.tokens[1])\n",
    "                \n",
    "            # Insere verbo\n",
    "            troca_genero.append(self.tokens[2])\n",
    "            \n",
    "            #Modifica adjetivo\n",
    "            if self.tokens[3][-1] =='a':\n",
    "                tamanho_adj = len(self.tokens[3])\n",
    "                troca_genero.append(self.tokens[3][:tamanho_adj-1] + 'o')\n",
    "            else:\n",
    "                troca_genero.append(self.tokens[3])\n",
    "            \n",
    "            troca_genero.append('.')\n",
    "            texto_modificado = ' '.join(troca_genero)\n",
    "        \n",
    "        else:\n",
    "            pos_artigo = self.inicio_masc.index(self.tokens[0])\n",
    "            troca_genero.append(self.inicio_fem[pos_artigo])\n",
    "            \n",
    "            #Trocar o substantivo\n",
    "            if 'or' in self.tokens[1]:\n",
    "                 troca_genero.append(self.tokens[1].replace('or', 'ora'))\n",
    "            # Não há problema esta verificação, pois a string 'ora' já foi verificada\n",
    "            elif 'o' in self.tokens[1][-1]:\n",
    "                tamanho_sub = len(self.tokens[1])\n",
    "                troca_genero.append(self.tokens[1][:tamanho_sub-1] + 'a')\n",
    "            elif ('ente', 'esta', 'ante'):\n",
    "                troca_genero.append(self.tokens[1])\n",
    "                \n",
    "            # Insere verbo\n",
    "            troca_genero.append(self.tokens[2])\n",
    "            \n",
    "            #Modifica adjetivo\n",
    "            if self.tokens[3][-1] =='o':\n",
    "                tamanho_adj = len(self.tokens[3])\n",
    "                troca_genero.append(self.tokens[3][:tamanho_adj-1] + 'a')\n",
    "            else:\n",
    "                troca_genero.append(self.tokens[3])\n",
    "                \n",
    "            texto_modificado = ' '.join(troca_genero)         \n",
    "        return texto_modificado\n",
    "    \n",
    "    #------------------------------------------------------------------------------\n",
    "        \n",
    "    def modifica_elementos_plural(self):\n",
    "        troca_genero = []\n",
    "        \n",
    "        if self.genero == 'feminino':        \n",
    "            pos_artigo = self.inicio_fem.index(self.tokens[0])\n",
    "            troca_genero.append(self.inicio_masc[pos_artigo])\n",
    "            \n",
    "            #Trocar o substantivo\n",
    "            if self.tokens[1][-4:] == 'oras':\n",
    "                 troca_genero.append(self.tokens[1].replace('oras', 'ores'))\n",
    "                    \n",
    "            # Não há problema esta verificação, pois a string 'ora' já foi verificada\n",
    "            elif self.tokens[1][-2:] == 'as':\n",
    "                tamanho_sub = len(self.tokens[1])\n",
    "                troca_genero.append(self.tokens[1][:tamanho_sub-2] + 'os')\n",
    "            \n",
    "            elif self.tokens[1][-5:] in ['entes', 'estas', 'antes']:\n",
    "                troca_genero.append(self.tokens[1])\n",
    "     \n",
    "            # Insere verbo\n",
    "            troca_genero.append(self.tokens[2])\n",
    "            \n",
    "            #Modifica adjetivo\n",
    "            if self.tokens[3][-2:] =='as':\n",
    "                tamanho_adj = len(self.tokens[3])\n",
    "                troca_genero.append(self.tokens[3][:tamanho_adj-2] + 'os')\n",
    "            else:\n",
    "                troca_genero.append(self.tokens[3])\n",
    "            texto_modificado = ' '.join(troca_genero)\n",
    "            \n",
    "        #------    \n",
    "        else:\n",
    "            pos_artigo = self.inicio_masc.index(self.tokens[0])\n",
    "            troca_genero.append(self.inicio_fem[pos_artigo])\n",
    "            \n",
    "            #Trocar o substantivo\n",
    "            if self.tokens[1][-4:] == 'ores':\n",
    "                 troca_genero.append(self.tokens[1].replace('ores', 'oras'))\n",
    "            elif self.tokens[1][-2:] == 'os':\n",
    "                tamanho_sub = len(self.tokens[1])\n",
    "                troca_genero.append(self.tokens[1][:tamanho_sub-2] + 'as')\n",
    "            elif self.tokens[1][-5:] in ['entes', 'estas', 'antes']:\n",
    "                troca_genero.append(self.tokens[1])\n",
    "                \n",
    "            # Insere verbo\n",
    "            troca_genero.append(self.tokens[2])\n",
    "            \n",
    "            #Modifica adjetivo\n",
    "            if self.tokens[3][-2:] =='os':\n",
    "                tamanho_adj = len(self.tokens[3])\n",
    "                troca_genero.append(self.tokens[3][:tamanho_adj-2] + 'as')\n",
    "            else:\n",
    "                troca_genero.append(self.tokens[3])\n",
    "                \n",
    "            texto_modificado = ' '.join(troca_genero)\n",
    "         \n",
    "        return texto_modificado\n",
    "          \n",
    "            \n",
    "        "
   ]
  },
  {
   "cell_type": "markdown",
   "metadata": {},
   "source": [
    "------\n",
    "\n",
    "**Verifica a numeração da sentença e chama as respectivas funções da classe acima**"
   ]
  },
  {
   "cell_type": "code",
   "execution_count": 10,
   "metadata": {},
   "outputs": [
    {
     "data": {
      "text/plain": [
       "'Aquelas amigas eram engraçadas.'"
      ]
     },
     "execution_count": 10,
     "metadata": {},
     "output_type": "execute_result"
    }
   ],
   "source": [
    "tg = TrocaGenero(genero, tokens) \n",
    "\n",
    "if tokens[0][-1] != 's':\n",
    "    numeracao = 'singular'\n",
    "else:\n",
    "    numeracao = 'plural'\n",
    "\n",
    "if numeracao == 'singular':\n",
    "    nova_sentenca = tg.modifica_elementos_sing()\n",
    "else:\n",
    "    nova_sentenca = tg.modifica_elementos_plural()\n",
    "nova_sentenca = nova_sentenca + '.'\n",
    "nova_sentenca"
   ]
  }
 ],
 "metadata": {
  "kernelspec": {
   "display_name": "Python 3",
   "language": "python",
   "name": "python3"
  },
  "language_info": {
   "codemirror_mode": {
    "name": "ipython",
    "version": 3
   },
   "file_extension": ".py",
   "mimetype": "text/x-python",
   "name": "python",
   "nbconvert_exporter": "python",
   "pygments_lexer": "ipython3",
   "version": "3.8.5"
  }
 },
 "nbformat": 4,
 "nbformat_minor": 4
}
